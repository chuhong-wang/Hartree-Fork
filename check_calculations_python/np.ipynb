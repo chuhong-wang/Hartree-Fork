{
 "cells": [
  {
   "cell_type": "code",
   "execution_count": 3,
   "metadata": {},
   "outputs": [
    {
     "name": "stdout",
     "output_type": "stream",
     "text": [
      "-129.8453996725217\n"
     ]
    }
   ],
   "source": [
    "import numpy as np\n",
    "\n",
    "def read_dat(filename, dim):\n",
    "    f = open(filename, 'r')\n",
    "    a = f.readlines()\n",
    "    mat = [[0]*dim for _ in range(dim)]\n",
    "    for i in range(len(a)):\n",
    "        a[i] = a[i].strip().split()\n",
    "        if len(a[i]) <= dim: continue \n",
    "        else:\n",
    "            x = int(a[i][0])-1\n",
    "            for y in range(dim):\n",
    "                mat[x][y] = float(a[i][y+1]) \n",
    "    return np.array(mat)\n",
    "\n",
    "h = read_dat(\"core_H.dat\", 7)\n",
    "d = read_dat(\"init_density.dat\", 7)\n",
    "f = read_dat(\"init_F.dat\", 7)\n",
    "\n",
    "print(np.sum(d*(h+f)))"
   ]
  },
  {
   "cell_type": "code",
   "execution_count": null,
   "metadata": {},
   "outputs": [],
   "source": []
  }
 ],
 "metadata": {
  "kernelspec": {
   "display_name": "base",
   "language": "python",
   "name": "python3"
  },
  "language_info": {
   "codemirror_mode": {
    "name": "ipython",
    "version": 3
   },
   "file_extension": ".py",
   "mimetype": "text/x-python",
   "name": "python",
   "nbconvert_exporter": "python",
   "pygments_lexer": "ipython3",
   "version": "3.9.13"
  }
 },
 "nbformat": 4,
 "nbformat_minor": 2
}
