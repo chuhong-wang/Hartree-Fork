{
 "cells": [
  {
   "cell_type": "code",
   "execution_count": 74,
   "metadata": {},
   "outputs": [
    {
     "data": {
      "text/plain": [
       "'O'"
      ]
     },
     "execution_count": 74,
     "metadata": {},
     "output_type": "execute_result"
    }
   ],
   "source": [
    "from pyscf.gto import Mole\n",
    "mol = Mole(atom='O 0 0 0; O 0 0 1.1; H 2 0 2.1; H 0 0 3.1;O 0 0 0; O 0 0 1.1; H 2 0 2.1; Cu 0 0 3.1', basis='sto3g').build()\n",
    "mol.nao\n",
    "mol._bas\n",
    "\n",
    "from pyscf.gto.mole import _parse_default_basis\n",
    "_parse_default_basis(mol.basis, mol.elements)\n",
    "\n",
    "gto.format_basis({'O^2':'sto-3g', 'H^2': '3-21g'})\n",
    "\n",
    "from pyscf.data.elements import ELEMENTS, ELEMENTS_PROTON, \\\n",
    "        _rm_digit, charge, _symbol, _std_symbol, _atom_symbol, is_ghost_atom, \\\n",
    "        _std_symbol_without_ghost\n",
    "\n",
    "_atom_symbol('O')"
   ]
  },
  {
   "cell_type": "code",
   "execution_count": 75,
   "metadata": {},
   "outputs": [
    {
     "name": "stdout",
     "output_type": "stream",
     "text": [
      "[[ 0  0  3  1  0 32 35  0]\n",
      " [ 0  0  3  1  0 38 41  0]\n",
      " [ 0  1  3  1  0 44 47  0]\n",
      " [ 1  0  3  1  0 50 53  0]\n",
      " [ 2  0  3  1  0 50 53  0]]\n",
      "7\n"
     ]
    }
   ],
   "source": [
    "from pyscf import gto\n",
    "import numpy as np\n",
    "import scipy.linalg\n",
    "from scipy.linalg import fractional_matrix_power\n",
    "from typing import Tuple\n",
    "np.set_printoptions(precision=7, linewidth=120, suppress=True)\n",
    "\n",
    "\n",
    "class Molecule:\n",
    "    def __init__(self):\n",
    "        # Project 03 existed\n",
    "        self.atom_charges = NotImplemented  # type: np.ndarray\n",
    "        self.atom_coords = NotImplemented  # type: np.ndarray\n",
    "        self.natm = NotImplemented  # type: int\n",
    "        self.mol = NotImplemented  # type: gto.Mole\n",
    "        self.nao = NotImplemented  # type: int\n",
    "        self.charge = 0  # type: int\n",
    "        self.nocc = NotImplemented  # type: int\n",
    "        # Project 04 added\n",
    "        self.mo_coeff = NotImplemented  # type: np.ndarray\n",
    "        self.mo_energy = NotImplemented  # type: np.ndarray\n",
    "        self.eri_ao = NotImplemented  # type: np.ndarray\n",
    "        self.eri_mo = NotImplemented  # type: np.ndarray\n",
    "        self.energy_rhf = NotImplemented  # type: np.ndarray\n",
    "        self.energy_corr = NotImplemented  # type: np.ndarray\n",
    "\n",
    "    def construct_from_dat_file(self, file_path: str):\n",
    "        # Same to Project 01\n",
    "        with open(file_path, \"r\") as f:\n",
    "            dat = np.array([line.split() for line in f.readlines()][1:])\n",
    "            self.atom_charges = np.array(dat[:, 0], dtype=float).astype(int)\n",
    "            self.atom_coords = np.array(dat[:, 1:4], dtype=float)\n",
    "            self.natm = self.atom_charges.shape[0]\n",
    "    def obtain_mol_instance(self, basis: str, verbose=0):\n",
    "        # Same to Project 03\n",
    "        mol = gto.Mole()\n",
    "        mol.unit = \"Bohr\"\n",
    "        mol.atom = \"\\n\".join([(\"{:3d} \" + \" \".join([\"{:25.18f}\"] * 3)).format(chg, *coord) for chg, coord in zip(self.atom_charges, self.atom_coords)])\n",
    "        mol.basis = basis\n",
    "        mol.charge = self.charge\n",
    "        mol.spin = 0\n",
    "        mol.verbose = verbose\n",
    "        self.mol = mol.build()\n",
    "\n",
    "sol_mole = Molecule()\n",
    "sol_mole.construct_from_dat_file(\"input/h2o/STO-3G/geom.dat\")\n",
    "sol_mole.obtain_mol_instance(basis=\"STO-3G\")\n",
    "sol_mole.mol.build()\n",
    "print(sol_mole.mol._bas)\n",
    "\n",
    "mol = sol_mole.mol\n",
    "ANG_OF, NCTR_OF = 1, 3\n",
    "\n",
    "\"\"\"\n",
    "`[[atom-id, angular-momentum, num-primitive-GTO, num-contracted-GTO, 0, ptr-of-exps, ptr-of-contract-coeff, 0], [...]]` each element represents one shell\n",
    "\"\"\"\n",
    "\n",
    "print(((mol._bas[:,ANG_OF]*2+1) * mol._bas[:,NCTR_OF]).sum())\n"
   ]
  },
  {
   "cell_type": "code",
   "execution_count": 23,
   "metadata": {},
   "outputs": [
    {
     "data": {
      "text/plain": [
       "array([1, 1, 3, 1, 1], dtype=int32)"
      ]
     },
     "execution_count": 23,
     "metadata": {},
     "output_type": "execute_result"
    }
   ],
   "source": [
    "(mol._bas[:,ANG_OF]*2+1)"
   ]
  },
  {
   "cell_type": "code",
   "execution_count": 76,
   "metadata": {},
   "outputs": [
    {
     "name": "stdout",
     "output_type": "stream",
     "text": [
      "converged SCF energy = -74.3627486850124\n",
      "\n",
      "WARN: Molecular system is found. FFT-grid is not available for Molecule. Lattice (in Bohr)\n",
      "[[12.190882   0.         0.       ]\n",
      " [ 0.         8.4184236  0.       ]\n",
      " [ 0.         0.         6.       ]]\n",
      "and FFT grids (60, 60, 60) are applied.\n",
      "\n",
      "\n",
      "WARN: Molecular system is found. FFT-grid is not available for Molecule. Lattice (in Bohr)\n",
      "[[12.190882   0.         0.       ]\n",
      " [ 0.         8.4184236  0.       ]\n",
      " [ 0.         0.         6.       ]]\n",
      "and FFT grids (60, 60, 60) are applied.\n",
      "\n"
     ]
    },
    {
     "data": {
      "text/plain": [
       "'sto-3g'"
      ]
     },
     "execution_count": 76,
     "metadata": {},
     "output_type": "execute_result"
    }
   ],
   "source": [
    "# from pyscf.pbc import gto, scf\n",
    "from pyscf.tools import chgcar\n",
    "import numpy\n",
    "# cell = gto.M(atom='H 0 0 0; H 0 0 1', a=numpy.eye(3)*3)\n",
    "from pyscf import gto, scf\n",
    "\n",
    "mol = gto.Mole()\n",
    "mol.build(\n",
    "    atom = [['O',(0.000000000000,  -0.143225816552,   0.000000000000)],\n",
    "            ['H', (1.638036840407,   1.136548822547 , -0.000000000000)],\n",
    "            ['H', (-1.638036840407,   1.136548822547 , 0.000000000000)]],  \n",
    "    basis = 'sto-3g',\n",
    "    charge = 0,\n",
    "    spin = 0,\n",
    ")\n",
    "mf = scf.RHF(mol).run()\n",
    "chgcar.density(mol, 'h2.CHGCAR', mf.make_rdm1())\n",
    "chgcar.orbital(mol, 'h2_mo1.CHGCAR', mf.mo_coeff[:,0])\n",
    "mol.basis"
   ]
  },
  {
   "cell_type": "code",
   "execution_count": 6,
   "metadata": {},
   "outputs": [
    {
     "name": "stdout",
     "output_type": "stream",
     "text": [
      "converged SCF energy = -74.3163053217111\n",
      "GTOval_sph 1\n",
      "0 200\n",
      "(100, 7) (7, 7)\n"
     ]
    },
    {
     "ename": "ValueError",
     "evalue": "could not broadcast input array from shape (100,) into shape (200,)",
     "output_type": "error",
     "traceback": [
      "\u001b[0;31m---------------------------------------------------------------------------\u001b[0m",
      "\u001b[0;31mValueError\u001b[0m                                Traceback (most recent call last)",
      "\u001b[0;32m/var/folders/24/9kr8nnb574s_yrbvn21x1pkr0000gn/T/ipykernel_69810/2082980164.py\u001b[0m in \u001b[0;36m<module>\u001b[0;34m\u001b[0m\n\u001b[1;32m     64\u001b[0m     \u001b[0mao\u001b[0m \u001b[0;34m=\u001b[0m \u001b[0mmol\u001b[0m\u001b[0;34m.\u001b[0m\u001b[0meval_gto\u001b[0m\u001b[0;34m(\u001b[0m\u001b[0;34m'GTOval'\u001b[0m\u001b[0;34m,\u001b[0m \u001b[0mcoords\u001b[0m\u001b[0;34m[\u001b[0m\u001b[0mip0\u001b[0m\u001b[0;34m:\u001b[0m\u001b[0mip1\u001b[0m\u001b[0;34m]\u001b[0m\u001b[0;34m)\u001b[0m\u001b[0;34m\u001b[0m\u001b[0;34m\u001b[0m\u001b[0m\n\u001b[1;32m     65\u001b[0m     \u001b[0mprint\u001b[0m\u001b[0;34m(\u001b[0m\u001b[0mao\u001b[0m\u001b[0;34m.\u001b[0m\u001b[0mshape\u001b[0m\u001b[0;34m,\u001b[0m \u001b[0mdm\u001b[0m\u001b[0;34m.\u001b[0m\u001b[0mshape\u001b[0m\u001b[0;34m)\u001b[0m\u001b[0;34m\u001b[0m\u001b[0;34m\u001b[0m\u001b[0m\n\u001b[0;32m---> 66\u001b[0;31m     \u001b[0mrho\u001b[0m\u001b[0;34m[\u001b[0m\u001b[0mip0\u001b[0m\u001b[0;34m:\u001b[0m\u001b[0mip1\u001b[0m\u001b[0;34m]\u001b[0m \u001b[0;34m=\u001b[0m \u001b[0mlib\u001b[0m\u001b[0;34m.\u001b[0m\u001b[0meinsum\u001b[0m\u001b[0;34m(\u001b[0m\u001b[0;34m'pi,ij,pj->p'\u001b[0m\u001b[0;34m,\u001b[0m \u001b[0mao\u001b[0m\u001b[0;34m,\u001b[0m \u001b[0mdm\u001b[0m\u001b[0;34m,\u001b[0m \u001b[0mao\u001b[0m\u001b[0;34m)\u001b[0m\u001b[0;34m\u001b[0m\u001b[0;34m\u001b[0m\u001b[0m\n\u001b[0m\u001b[1;32m     67\u001b[0m \u001b[0;31m# print(rho)\u001b[0m\u001b[0;34m\u001b[0m\u001b[0;34m\u001b[0m\u001b[0m\n\u001b[1;32m     68\u001b[0m \u001b[0;34m\u001b[0m\u001b[0m\n",
      "\u001b[0;31mValueError\u001b[0m: could not broadcast input array from shape (100,) into shape (200,)"
     ]
    }
   ],
   "source": [
    "from pyscf import lib\n",
    "from pyscf import gto, scf\n",
    "from pyscf.gto.moleintor import make_loc\n",
    "import ctypes\n",
    "import numpy\n",
    "import warnings\n",
    "from pyscf import __config__\n",
    "libcgto = lib.load_library('libcgto')\n",
    "\n",
    "BLKSIZE = 56  # must be equal to lib/gto/grid_ao_drv.h\n",
    "NBINS = 100\n",
    "CUTOFF = getattr(__config__, 'eval_gto_cutoff', 1e-15)\n",
    "\n",
    "_GTO_EVAL_FUNCTIONS = {\n",
    "    # Functiona name        : (comp-for-scalar, comp-for-spinor)\n",
    "    'GTOval'                : (1, 1 ),\n",
    "    'GTOval_ip'             : (3, 3 ),\n",
    "    'GTOval_ig'             : (3, 3 ),\n",
    "    'GTOval_ipig'           : (9, 9 ),\n",
    "    'GTOval_deriv0'         : (1, 1 ),\n",
    "    'GTOval_deriv1'         : (4, 4 ),\n",
    "    'GTOval_deriv2'         : (10,10),\n",
    "    'GTOval_deriv3'         : (20,20),\n",
    "    'GTOval_deriv4'         : (35,35),\n",
    "    'GTOval_sp'             : (4, 1 ),\n",
    "    'GTOval_ipsp'           : (12,3 ),\n",
    "    'GTOval_ipipsp'         : (36,9 ),\n",
    "}\n",
    "\n",
    "\n",
    "def _get_intor_and_comp(mol, eval_name, comp=None):\n",
    "    if not ('_sph' in eval_name or '_cart' in eval_name or\n",
    "            '_spinor' in eval_name):\n",
    "        if mol.cart:\n",
    "            eval_name = eval_name + '_cart'\n",
    "        else:\n",
    "            eval_name = eval_name + '_sph'\n",
    "\n",
    "    if comp is None:\n",
    "        if '_spinor' in eval_name:\n",
    "            fname = eval_name.replace('_spinor', '')\n",
    "            comp = _GTO_EVAL_FUNCTIONS.get(fname, (None,None))[1]\n",
    "        else:\n",
    "            fname = eval_name.replace('_sph', '').replace('_cart', '')\n",
    "            comp = _GTO_EVAL_FUNCTIONS.get(fname, (None,None))[0]\n",
    "        if comp is None:\n",
    "            warnings.warn('Function %s not found.  Set its comp to 1' % eval_name)\n",
    "            comp = 1\n",
    "    return eval_name, comp\n",
    "\n",
    "mol = gto.M(atom='O 0 -0.143225816552 0; H 1.638036840407 1.136548822547 1; H -1.638036840407 1.136548822547 0', basis='sto-3g')\n",
    "mf = scf.RHF(mol).run()\n",
    "coords = numpy.random.random((100,3))\n",
    "\n",
    "eval_name, comp = _get_intor_and_comp(mol, \"GTOval\", 1)\n",
    "\n",
    "print(eval_name, comp)\n",
    "ngrids = 200\n",
    "blksize = min(8000, ngrids)\n",
    "rho = numpy.empty(ngrids)\n",
    "dm = mf.make_rdm1()\n",
    "for ip0, ip1 in lib.prange(0, ngrids, blksize):\n",
    "    print(ip0, ip1)\n",
    "    ao = mol.eval_gto('GTOval', coords[ip0:ip1])\n",
    "    print(ao.shape, dm.shape)\n",
    "    rho[ip0:ip1] = lib.einsum('pi,ij,pj->p', ao, dm, ao)\n",
    "# print(rho)\n",
    "\n",
    "dm"
   ]
  },
  {
   "cell_type": "code",
   "execution_count": 79,
   "metadata": {},
   "outputs": [
    {
     "data": {
      "image/png": "[encoded data removed]",
      "text/plain": [
       "<Figure size 640x480 with 2 Axes>"
      ]
     },
     "metadata": {},
     "output_type": "display_data"
    }
   ],
   "source": [
    "import matplotlib.pyplot as plt\n",
    "import numpy as np \n",
    "vals = dm\n",
    "heatmap_data = np.zeros((len(vals), len(vals[0])))\n",
    "for i in range(len(vals)):\n",
    "    for j in range(len(vals[0])):\n",
    "        heatmap_data[i,j] = vals[i][j]\n",
    "\n",
    "cmap = plt.cm.RdBu_r\n",
    "plt.imshow(heatmap_data, cmap=cmap, aspect='auto') # auto adjusted colorbar range to [min, max]\n",
    "plt.colorbar(label='density value')\n",
    "plt.show()"
   ]
  },
  {
   "cell_type": "code",
   "execution_count": 69,
   "metadata": {},
   "outputs": [
    {
     "data": {
      "text/plain": [
       "(7, 7)"
      ]
     },
     "execution_count": 69,
     "metadata": {},
     "output_type": "execute_result"
    }
   ],
   "source": [
    "dm.shape"
   ]
  },
  {
   "cell_type": "code",
   "execution_count": 53,
   "metadata": {},
   "outputs": [
    {
     "ename": "ValueError",
     "evalue": "Size of label 'i' for operand 1 (7) does not match previous terms (24).",
     "output_type": "error",
     "traceback": [
      "\u001b[0;31m---------------------------------------------------------------------------\u001b[0m",
      "\u001b[0;31mValueError\u001b[0m                                Traceback (most recent call last)",
      "\u001b[0;32m/var/folders/24/9kr8nnb574s_yrbvn21x1pkr0000gn/T/ipykernel_83183/3444780453.py\u001b[0m in \u001b[0;36m<module>\u001b[0;34m\u001b[0m\n\u001b[0;32m----> 1\u001b[0;31m \u001b[0mlib\u001b[0m\u001b[0;34m.\u001b[0m\u001b[0meinsum\u001b[0m\u001b[0;34m(\u001b[0m\u001b[0;34m'pi,ij,pj->p'\u001b[0m\u001b[0;34m,\u001b[0m \u001b[0mao\u001b[0m\u001b[0;34m,\u001b[0m \u001b[0mdm\u001b[0m\u001b[0;34m,\u001b[0m \u001b[0mao\u001b[0m\u001b[0;34m)\u001b[0m\u001b[0;34m\u001b[0m\u001b[0;34m\u001b[0m\u001b[0m\n\u001b[0m",
      "\u001b[0;32m~/.local/lib/python3.9/site-packages/pyscf/lib/numpy_helper.py\u001b[0m in \u001b[0;36meinsum\u001b[0;34m(subscripts, *tensors, **kwargs)\u001b[0m\n\u001b[1;32m    241\u001b[0m         \u001b[0moptimize\u001b[0m \u001b[0;34m=\u001b[0m \u001b[0mkwargs\u001b[0m\u001b[0;34m.\u001b[0m\u001b[0mpop\u001b[0m\u001b[0;34m(\u001b[0m\u001b[0;34m'optimize'\u001b[0m\u001b[0;34m,\u001b[0m \u001b[0;32mTrue\u001b[0m\u001b[0;34m)\u001b[0m\u001b[0;34m\u001b[0m\u001b[0;34m\u001b[0m\u001b[0m\n\u001b[1;32m    242\u001b[0m         \u001b[0mtensors\u001b[0m \u001b[0;34m=\u001b[0m \u001b[0mlist\u001b[0m\u001b[0;34m(\u001b[0m\u001b[0mtensors\u001b[0m\u001b[0;34m)\u001b[0m\u001b[0;34m\u001b[0m\u001b[0;34m\u001b[0m\u001b[0m\n\u001b[0;32m--> 243\u001b[0;31m         contraction_list = _einsum_path(subscripts, *tensors, optimize=optimize,\n\u001b[0m\u001b[1;32m    244\u001b[0m                                         einsum_call=True)[1]\n\u001b[1;32m    245\u001b[0m         \u001b[0;32mfor\u001b[0m \u001b[0mcontraction\u001b[0m \u001b[0;32min\u001b[0m \u001b[0mcontraction_list\u001b[0m\u001b[0;34m:\u001b[0m\u001b[0;34m\u001b[0m\u001b[0;34m\u001b[0m\u001b[0m\n",
      "\u001b[0;32m<__array_function__ internals>\u001b[0m in \u001b[0;36meinsum_path\u001b[0;34m(*args, **kwargs)\u001b[0m\n",
      "\u001b[0;32m~/opt/anaconda3/lib/python3.9/site-packages/numpy/core/einsumfunc.py\u001b[0m in \u001b[0;36meinsum_path\u001b[0;34m(optimize, einsum_call, *operands)\u001b[0m\n\u001b[1;32m    874\u001b[0m                     \u001b[0mdimension_dict\u001b[0m\u001b[0;34m[\u001b[0m\u001b[0mchar\u001b[0m\u001b[0;34m]\u001b[0m \u001b[0;34m=\u001b[0m \u001b[0mdim\u001b[0m\u001b[0;34m\u001b[0m\u001b[0;34m\u001b[0m\u001b[0m\n\u001b[1;32m    875\u001b[0m                 \u001b[0;32melif\u001b[0m \u001b[0mdim\u001b[0m \u001b[0;32mnot\u001b[0m \u001b[0;32min\u001b[0m \u001b[0;34m(\u001b[0m\u001b[0;36m1\u001b[0m\u001b[0;34m,\u001b[0m \u001b[0mdimension_dict\u001b[0m\u001b[0;34m[\u001b[0m\u001b[0mchar\u001b[0m\u001b[0;34m]\u001b[0m\u001b[0;34m)\u001b[0m\u001b[0;34m:\u001b[0m\u001b[0;34m\u001b[0m\u001b[0;34m\u001b[0m\u001b[0m\n\u001b[0;32m--> 876\u001b[0;31m                     raise ValueError(\"Size of label '%s' for operand %d (%d) \"\n\u001b[0m\u001b[1;32m    877\u001b[0m                                      \u001b[0;34m\"does not match previous terms (%d).\"\u001b[0m\u001b[0;34m\u001b[0m\u001b[0;34m\u001b[0m\u001b[0m\n\u001b[1;32m    878\u001b[0m                                      % (char, tnum, dimension_dict[char], dim))\n",
      "\u001b[0;31mValueError\u001b[0m: Size of label 'i' for operand 1 (7) does not match previous terms (24)."
     ]
    }
   ],
   "source": [
    "lib.einsum('pi,ij,pj->p', ao, dm, ao)"
   ]
  },
  {
   "cell_type": "code",
   "execution_count": null,
   "metadata": {},
   "outputs": [],
   "source": []
  }
 ],
 "metadata": {
  "kernelspec": {
   "display_name": "base",
   "language": "python",
   "name": "python3"
  },
  "language_info": {
   "codemirror_mode": {
    "name": "ipython",
    "version": 3
   },
   "file_extension": ".py",
   "mimetype": "text/x-python",
   "name": "python",
   "nbconvert_exporter": "python",
   "pygments_lexer": "ipython3",
   "version": "3.9.13"
  }
 },
 "nbformat": 4,
 "nbformat_minor": 2
}
