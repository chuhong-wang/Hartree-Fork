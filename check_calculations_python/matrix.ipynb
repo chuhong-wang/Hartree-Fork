{
 "cells": [
  {
   "cell_type": "code",
   "execution_count": 1,
   "metadata": {},
   "outputs": [
    {
     "name": "stdout",
     "output_type": "stream",
     "text": [
      "eigenvalues [1.76168822 0.43422215 1.10010419 0.88574533 0.51876465 1.29947547\n",
      " 1.        ]\n",
      "eigenvectors [[-2.34519160e-01 -2.28285695e-01 -6.46555592e-01 -6.89095256e-01\n",
      "  -7.32372344e-16  2.68223379e-16  0.00000000e+00]\n",
      " [-5.89357288e-01  6.86047834e-01 -3.24108012e-01  2.77399265e-01\n",
      "   2.00920769e-15  5.09836907e-16  0.00000000e+00]\n",
      " [ 2.11824889e-16 -4.19430552e-16 -6.25907161e-16  6.54128396e-16\n",
      "   6.19349122e-01 -7.85115702e-01  0.00000000e+00]\n",
      " [-2.80518958e-01  3.20745209e-01  6.54330912e-01 -6.24726086e-01\n",
      "   1.43284564e-15 -6.68070480e-16  0.00000000e+00]\n",
      " [ 0.00000000e+00  0.00000000e+00  0.00000000e+00  0.00000000e+00\n",
      "   0.00000000e+00  0.00000000e+00  1.00000000e+00]\n",
      " [-5.09395654e-01 -4.32635251e-01  1.56158447e-01  1.70168583e-01\n",
      "  -5.55160637e-01 -4.37945964e-01  0.00000000e+00]\n",
      " [-5.09395654e-01 -4.32635251e-01  1.56158447e-01  1.70168583e-01\n",
      "   5.55160637e-01  4.37945964e-01  0.00000000e+00]]\n"
     ]
    }
   ],
   "source": [
    "import numpy as np \n",
    "matrix_size = 7\n",
    "f = open(\"data/s.dat\", 'r')\n",
    "a = f.readlines()\n",
    "s_mat = np.zeros((matrix_size, matrix_size))\n",
    "for i in range(len(a)):\n",
    "    a[i] = a[i].split()\n",
    "    x,y,val = int(a[i][0]), int(a[i][1]), float(a[i][2])\n",
    "    s_mat[x-1][y-1] = val \n",
    "    if x!=y: s_mat[y-1][x-1] = val \n",
    "\n",
    "eigenvalues, eigenvectors = np.linalg.eig(s_mat)\n",
    "print(\"eigenvalues\", eigenvalues)\n",
    "print(\"eigenvectors\", eigenvectors)"
   ]
  },
  {
   "cell_type": "code",
   "execution_count": 2,
   "metadata": {},
   "outputs": [
    {
     "name": "stdout",
     "output_type": "stream",
     "text": [
      "[-4.13149642e-01 -1.03826379e+00  4.44089210e-16 -4.94186943e-01\n",
      "  0.00000000e+00 -8.97396322e-01 -8.97396322e-01]\n",
      "[-4.13149642e-01 -1.03826379e+00  3.73169411e-16 -4.94186943e-01\n",
      "  0.00000000e+00 -8.97396322e-01 -8.97396322e-01]\n"
     ]
    }
   ],
   "source": [
    "# verify Av = λv\n",
    "# ith column of v is a eignvector corresponds to the i-th term in eigenvalue\n",
    "\n",
    "v = eigenvectors[:,0]\n",
    "lam = eigenvalues[0]\n",
    "print(np.dot(s_mat, v))\n",
    "print(lam * v)"
   ]
  },
  {
   "cell_type": "code",
   "execution_count": 3,
   "metadata": {},
   "outputs": [
    {
     "data": {
      "text/plain": [
       "array([[ 1.02363458e+00, -1.36854681e-01, -7.99740794e-16,\n",
       "        -7.48725613e-03,  0.00000000e+00,  1.90278865e-02,\n",
       "         1.90278865e-02],\n",
       "       [-1.36854681e-01,  1.15786320e+00,  1.23206934e-15,\n",
       "         7.21600680e-02,  0.00000000e+00, -2.22332556e-01,\n",
       "        -2.22332556e-01],\n",
       "       [-7.99740794e-16,  1.23206934e-15,  1.07331475e+00,\n",
       "         6.18624993e-16,  0.00000000e+00, -1.75758305e-01,\n",
       "         1.75758305e-01],\n",
       "       [-7.48725613e-03,  7.21600680e-02,  6.18624993e-16,\n",
       "         1.03830505e+00,  0.00000000e+00, -1.18462559e-01,\n",
       "        -1.18462559e-01],\n",
       "       [ 0.00000000e+00,  0.00000000e+00,  0.00000000e+00,\n",
       "         0.00000000e+00,  1.00000000e+00,  0.00000000e+00,\n",
       "         0.00000000e+00],\n",
       "       [ 1.90278865e-02, -2.22332556e-01, -1.75758305e-01,\n",
       "        -1.18462559e-01,  0.00000000e+00,  1.12972342e+00,\n",
       "        -6.25975108e-02],\n",
       "       [ 1.90278865e-02, -2.22332556e-01,  1.75758305e-01,\n",
       "        -1.18462559e-01,  0.00000000e+00, -6.25975108e-02,\n",
       "         1.12972342e+00]])"
      ]
     },
     "execution_count": 3,
     "metadata": {},
     "output_type": "execute_result"
    }
   ],
   "source": [
    "lam_inv_sqrt = np.linalg.inv(np.sqrt(np.diag(eigenvalues)))\n",
    "k = eigenvectors@(lam_inv_sqrt)@eigenvectors.T\n",
    "k"
   ]
  },
  {
   "cell_type": "code",
   "execution_count": 4,
   "metadata": {},
   "outputs": [
    {
     "data": {
      "text/plain": [
       "array([[1.76168822, 0.        , 0.        , 0.        , 0.        ,\n",
       "        0.        , 0.        ],\n",
       "       [0.        , 0.43422215, 0.        , 0.        , 0.        ,\n",
       "        0.        , 0.        ],\n",
       "       [0.        , 0.        , 1.10010419, 0.        , 0.        ,\n",
       "        0.        , 0.        ],\n",
       "       [0.        , 0.        , 0.        , 0.88574533, 0.        ,\n",
       "        0.        , 0.        ],\n",
       "       [0.        , 0.        , 0.        , 0.        , 0.51876465,\n",
       "        0.        , 0.        ],\n",
       "       [0.        , 0.        , 0.        , 0.        , 0.        ,\n",
       "        1.29947547, 0.        ],\n",
       "       [0.        , 0.        , 0.        , 0.        , 0.        ,\n",
       "        0.        , 1.        ]])"
      ]
     },
     "execution_count": 4,
     "metadata": {},
     "output_type": "execute_result"
    }
   ],
   "source": [
    "np.diag(eigenvalues)"
   ]
  },
  {
   "cell_type": "code",
   "execution_count": 7,
   "metadata": {},
   "outputs": [
    {
     "name": "stdout",
     "output_type": "stream",
     "text": [
      "7 7 7 7\n"
     ]
    }
   ],
   "source": [
    "import pickle as pkl\n",
    "eri = pkl.load(open(\"eri.pkl\", \"rb\"))\n",
    "print(len(eri), len(eri[0]), len(eri[0][0]), len(eri[0][0][0]))"
   ]
  },
  {
   "cell_type": "code",
   "execution_count": 13,
   "metadata": {},
   "outputs": [
    {
     "name": "stdout",
     "output_type": "stream",
     "text": [
      "[-7.39153187e-18 -2.63322412e-17  0.00000000e+00  8.80159093e-01\n",
      "  0.00000000e+00  1.35497737e-01  1.35497737e-01]\n"
     ]
    }
   ],
   "source": [
    "print(eri[3][3][3])"
   ]
  },
  {
   "cell_type": "code",
   "execution_count": 15,
   "metadata": {},
   "outputs": [
    {
     "name": "stdout",
     "output_type": "stream",
     "text": [
      "0.7746059439198978\n"
     ]
    }
   ],
   "source": [
    "print(eri[-1][-1][-1][-1])"
   ]
  },
  {
   "cell_type": "code",
   "execution_count": 3,
   "metadata": {},
   "outputs": [
    {
     "data": {
      "text/plain": [
       "array([[0., 0., 0., 0., 0., 0., 0.],\n",
       "       [0., 0., 0., 0., 0., 0., 0.],\n",
       "       [0., 0., 0., 0., 0., 1., 0.],\n",
       "       [0., 0., 0., 0., 0., 0., 0.],\n",
       "       [0., 0., 0., 0., 0., 0., 0.],\n",
       "       [0., 0., 0., 0., 0., 0., 0.],\n",
       "       [0., 0., 0., 0., 0., 0., 0.]])"
      ]
     },
     "execution_count": 3,
     "metadata": {},
     "output_type": "execute_result"
    }
   ],
   "source": [
    "import numpy as np\n",
    "s_mat = np.zeros((7, 7))\n",
    "s_mat[2][5] = 1\n",
    "t_mat = np.ones((7, 7))\n",
    "s_mat / t_mat"
   ]
  },
  {
   "cell_type": "code",
   "execution_count": null,
   "metadata": {},
   "outputs": [],
   "source": [
    "nocc = 7\n",
    "mo_energy = \n",
    "\n",
    "def eng_mp2_corr(self):\n",
    "    # Output: (Restricted) MP2 correlation energy\n",
    "    nocc, e = nocc, mo_energy\n",
    "    eri_iajb = self.eri_mo[:nocc, nocc:, :nocc, nocc:]\n",
    "    D_iajb = e[:nocc, None, None, None] - e[None, nocc:, None, None] + e[None, None, :nocc, None] - e[None, None, None, nocc:]\n",
    "    return (eri_iajb * (2 * eri_iajb - eri_iajb.swapaxes(-1, -3)) / D_iajb).sum()"
   ]
  }
 ],
 "metadata": {
  "kernelspec": {
   "display_name": "base",
   "language": "python",
   "name": "python3"
  },
  "language_info": {
   "codemirror_mode": {
    "name": "ipython",
    "version": 3
   },
   "file_extension": ".py",
   "mimetype": "text/x-python",
   "name": "python",
   "nbconvert_exporter": "python",
   "pygments_lexer": "ipython3",
   "version": "3.9.13"
  }
 },
 "nbformat": 4,
 "nbformat_minor": 2
}
